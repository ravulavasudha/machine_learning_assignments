{
 "cells": [
  {
   "cell_type": "markdown",
   "id": "1943cac0",
   "metadata": {},
   "source": [
    "# 1. Given X be a discrete random variable with the following PMF\n",
    "\n",
    "\n",
    "Find the range RX of the random variable X.\n",
    "Find P(X ≤ 0.5)\n",
    "Find P(0.25<X<0.75)\n",
    "P(X = 0.2|X<0.6)\n",
    " "
   ]
  },
  {
   "cell_type": "code",
   "execution_count": null,
   "id": "0ac07231",
   "metadata": {},
   "outputs": [],
   "source": []
  },
  {
   "cell_type": "markdown",
   "id": "ba0fad19",
   "metadata": {},
   "source": [
    "# 2.Two equal and fair dice are rolled, and we observed two numbers X and Y.\n",
    "Find RX, RY, and the PMFs of X and Y.\n",
    "Find P(X = 2,Y = 6).\n",
    "Find P(X>3|Y = 2).\n",
    "If Z = X + Y. Find the range and PMF of Z.\n",
    "Find P(X = 4|Z = 8)."
   ]
  },
  {
   "cell_type": "code",
   "execution_count": null,
   "id": "6102da1f",
   "metadata": {},
   "outputs": [],
   "source": []
  },
  {
   "cell_type": "markdown",
   "id": "4642dd6a",
   "metadata": {},
   "source": [
    "# 3. In an exam, there were 20 multiple-choice questions. Each question had 44 possible options. A student knew the answer to 10 questions, but the other 10 questions were unknown to him, and he chose answers randomly. If the student X's score is equal to the total number of correct answers, then find out the PMF of X. What is P(X>15)?\n",
    " "
   ]
  },
  {
   "cell_type": "code",
   "execution_count": null,
   "id": "2e923ce2",
   "metadata": {},
   "outputs": [],
   "source": []
  },
  {
   "cell_type": "markdown",
   "id": "4e86ad42",
   "metadata": {},
   "source": [
    "# 4. The number of students arriving at a college between a time interval is a Poisson random variable. On average, 10 students arrive per hour. Let Y be the number of students arriving from 10 am to 11:30 am. What is P(10<Y≤15)?\n",
    " "
   ]
  },
  {
   "cell_type": "code",
   "execution_count": null,
   "id": "2e139080",
   "metadata": {},
   "outputs": [],
   "source": []
  },
  {
   "cell_type": "markdown",
   "id": "299d5618",
   "metadata": {},
   "source": [
    "# 5.Two independent random variables, X and Y,are given such that X~Poisson(α) and Y~Poisson(β). State a new random variable as Z = X + Y. Find out the PMF of Z.\n",
    " "
   ]
  },
  {
   "cell_type": "code",
   "execution_count": null,
   "id": "a465c2e1",
   "metadata": {},
   "outputs": [],
   "source": []
  },
  {
   "cell_type": "markdown",
   "id": "d3c5e273",
   "metadata": {},
   "source": [
    "# 6. There is a discrete random variable X with the pmf.\n",
    "image.png If we define a new random variable Y = (X + 1)2 then\n",
    "\n",
    "Find the range of Y.\n",
    "Find the pmf of Y.\n",
    "image-2.png\n",
    "\n",
    "Find EX and Var(X).\n",
    "Find P(X ≥ 1/2).\n",
    "\n",
    "If X is a continuous random variable with pdf image-3.png\n",
    "\n",
    "If X~Uniform and Y = sin(X), then find fY(y).\n",
    "If X is a random variable with CDF image-4.png\n",
    "What kind of random variable is X: discrete, continuous, or mixed?\n",
    "Find the PDF of X, fX(x).\n",
    "Find E(eX).\n",
    "Find P(X = 0|X≤0.5)."
   ]
  },
  {
   "cell_type": "code",
   "execution_count": null,
   "id": "22f12fcf",
   "metadata": {},
   "outputs": [],
   "source": []
  }
 ],
 "metadata": {
  "kernelspec": {
   "display_name": "Python 3 (ipykernel)",
   "language": "python",
   "name": "python3"
  },
  "language_info": {
   "codemirror_mode": {
    "name": "ipython",
    "version": 3
   },
   "file_extension": ".py",
   "mimetype": "text/x-python",
   "name": "python",
   "nbconvert_exporter": "python",
   "pygments_lexer": "ipython3",
   "version": "3.9.12"
  }
 },
 "nbformat": 4,
 "nbformat_minor": 5
}
